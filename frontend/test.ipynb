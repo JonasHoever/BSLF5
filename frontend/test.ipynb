{
 "cells": [
  {
   "cell_type": "code",
   "execution_count": 2,
   "id": "569d1046",
   "metadata": {},
   "outputs": [
    {
     "name": "stdout",
     "output_type": "stream",
     "text": [
      "Defaulting to user installation because normal site-packages is not writeable\n",
      "Collecting mysql-connector-python\n",
      "  Using cached mysql_connector_python-9.3.0-cp312-cp312-win_amd64.whl.metadata (7.7 kB)\n",
      "Using cached mysql_connector_python-9.3.0-cp312-cp312-win_amd64.whl (16.4 MB)\n",
      "Installing collected packages: mysql-connector-python\n",
      "Successfully installed mysql-connector-python-9.3.0\n",
      "Note: you may need to restart the kernel to use updated packages.\n"
     ]
    }
   ],
   "source": [
    "pip install mysql-connector-python"
   ]
  },
  {
   "cell_type": "code",
   "execution_count": 1,
   "id": "3915e89d",
   "metadata": {},
   "outputs": [],
   "source": [
    "from src import script"
   ]
  },
  {
   "cell_type": "code",
   "execution_count": 2,
   "id": "c72074cb",
   "metadata": {},
   "outputs": [],
   "source": [
    "readdatasys = script.ReadUserData(\"jonashoever.de\",\"mika\",\"kleinerschwanz\",\"LF5\")"
   ]
  },
  {
   "cell_type": "code",
   "execution_count": 4,
   "id": "9d0a6afd",
   "metadata": {},
   "outputs": [
    {
     "data": {
      "text/plain": [
       "{'error': 'Keine Daten für die KundenID {customer_id} gefunden!'}"
      ]
     },
     "execution_count": 4,
     "metadata": {},
     "output_type": "execute_result"
    }
   ],
   "source": [
    "readdatasys.read_customer_data_by_id(5003)"
   ]
  },
  {
   "cell_type": "code",
   "execution_count": 4,
   "id": "7c4bc740",
   "metadata": {},
   "outputs": [
    {
     "data": {
      "text/plain": [
       "{'KundenID': 20,\n",
       " 'Vorname': 'Alan',\n",
       " 'Nachname': 'Braun',\n",
       " 'Straße': 'Feldstraße',\n",
       " 'Hausnummer': '45',\n",
       " 'Ort': 'Buxtehude',\n",
       " 'PLZ': '21614',\n",
       " 'AuftragID': None,\n",
       " 'Bestelldatum': None,\n",
       " 'Abholdatum': None,\n",
       " 'Gesamtpreis': None}"
      ]
     },
     "execution_count": 4,
     "metadata": {},
     "output_type": "execute_result"
    }
   ],
   "source": [
    "readdatasys.read_customer_data_by_name(\"Alan\",\"Braun\",\"Feldstraße\",\"21614\",\"Buxtehude\")"
   ]
  },
  {
   "cell_type": "code",
   "execution_count": null,
   "id": "c96372e4",
   "metadata": {},
   "outputs": [],
   "source": []
  }
 ],
 "metadata": {
  "kernelspec": {
   "display_name": "Python 3",
   "language": "python",
   "name": "python3"
  },
  "language_info": {
   "codemirror_mode": {
    "name": "ipython",
    "version": 3
   },
   "file_extension": ".py",
   "mimetype": "text/x-python",
   "name": "python",
   "nbconvert_exporter": "python",
   "pygments_lexer": "ipython3",
   "version": "3.9.6"
  }
 },
 "nbformat": 4,
 "nbformat_minor": 5
}
